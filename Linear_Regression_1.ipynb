{
  "nbformat": 4,
  "nbformat_minor": 0,
  "metadata": {
    "colab": {
      "name": "Linear Regression 1.ipynb",
      "provenance": [],
      "collapsed_sections": [],
      "authorship_tag": "ABX9TyOFrCwqm0YK96Sk3a/47t/B",
      "include_colab_link": true
    },
    "kernelspec": {
      "name": "python3",
      "display_name": "Python 3"
    },
    "language_info": {
      "name": "python"
    }
  },
  "cells": [
    {
      "cell_type": "markdown",
      "metadata": {
        "id": "view-in-github",
        "colab_type": "text"
      },
      "source": [
        "<a href=\"https://colab.research.google.com/github/chris-iscool/machinelearning/blob/main/Linear_Regression_1.ipynb\" target=\"_parent\"><img src=\"https://colab.research.google.com/assets/colab-badge.svg\" alt=\"Open In Colab\"/></a>"
      ]
    },
    {
      "cell_type": "code",
      "metadata": {
        "id": "nXeueqiR0Cc_"
      },
      "source": [
        "# Nur für die Tensorflow Version\n",
        "%tensorflow_version 2.x"
      ],
      "execution_count": null,
      "outputs": []
    },
    {
      "cell_type": "code",
      "metadata": {
        "id": "qtmjm5ie0pqd"
      },
      "source": [
        "# Wichtige imports für Tensorflow\n",
        "import numpy as np\n",
        "import pandas as pd\n",
        "import tensorflow as tf\n",
        "from matplotlib import pyplot as plt"
      ],
      "execution_count": null,
      "outputs": []
    },
    {
      "cell_type": "markdown",
      "metadata": {
        "id": "FK7Oj5So19kP"
      },
      "source": [
        "Model $f( \\bf{x} )$ abhängig von:    \n",
        "\n",
        "\n",
        "*   Learning rate $\\eta$\n",
        "*   Feature $\\bf{x}$\n",
        "*   Label $\\bf{y}$\n",
        "*   Batch size $N$\n",
        "*   Time/epoch $t$"
      ]
    },
    {
      "cell_type": "code",
      "metadata": {
        "id": "3WRdI_C-05bX"
      },
      "source": [
        "def build_model(learning_rate):\n",
        "  # Ein einfaches Model, ein Layer, ein Knoten (Neuron), eine Funktion\n",
        "  f = tf.keras.models.Sequential()\n",
        "\n",
        "  f.add(tf.keras.layers.Dense(units=1, input_shape=(1,)))\n",
        "\n",
        "  # Alle weiteren Eigenschaften des 1 Neuron Model werden hier bestimmt, wie Lernen durch Root Mean Square\n",
        "  f.compile(optimizer=tf.keras.optimizers.RMSprop(lr=learning_rate), loss=\"mean_squared_error\", metrics=[tf.keras.metrics.RootMeanSquaredError()])\n",
        "\n",
        "  return f\n",
        "\n",
        "# Training des Neurons:\n",
        "def train_model(model, feature, label, batchsize, epochs_T):\n",
        "  # Wir trainieren das Neuron für eine gegebene Anzahl an Epochen\n",
        "  training_history = model.fit(x=feature, y=label, batch_size=batchsize, epochs=epochs_T)\n",
        "\n",
        "  # Gewichte und Biases können jetzt aus dem trainierten Neuron extrahiert werden\n",
        "  # Ebenso die Zeiten/Epochen, die Zustände (Historien) zu diesen Zeiten, und die Liste der RMS zu den jeweiligen Zeiten\n",
        "  trained_weights = model.get_weights()[0]\n",
        "  trained_biases = model.get_weights()[1]\n",
        "  epochs = training_history.epoch\n",
        "  states = pd.DataFrame(training_history.history)\n",
        "  rms_errors = states[\"root_mean_squared_error\"]\n",
        "\n",
        "  return trained_weights, trained_biases, epochs, rms_errors"
      ],
      "execution_count": null,
      "outputs": []
    },
    {
      "cell_type": "markdown",
      "metadata": {
        "id": "yBoZb4M0FdWP"
      },
      "source": [
        "In einem trainierten Modell $f(\\bf{x})$ besteht der lineare Zusammenhang mit den Gewichten $\\bf{w}$ und den Biases $\\bf{b}$ wie folgt:    \n",
        "$$ \\bf{y} = \\bf{w} \\cdot \\bf{x} + \\bf{b} $$\n",
        "\n",
        "Wir wollen nun für ein trainiertes Modell die \"vorhergesagten\" (trainierten) mit den tatsächlichen Daten vergleichen! "
      ]
    },
    {
      "cell_type": "code",
      "metadata": {
        "id": "N0mdqK4972a9"
      },
      "source": [
        ""
      ],
      "execution_count": null,
      "outputs": []
    }
  ]
}