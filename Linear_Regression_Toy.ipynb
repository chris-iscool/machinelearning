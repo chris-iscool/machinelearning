{
  "nbformat": 4,
  "nbformat_minor": 0,
  "metadata": {
    "colab": {
      "name": "Linear Regression Toy.ipynb",
      "provenance": [],
      "collapsed_sections": [],
      "authorship_tag": "ABX9TyNhFyqePcU+Z8uzpK3MFeLR",
      "include_colab_link": true
    },
    "kernelspec": {
      "name": "python3",
      "display_name": "Python 3"
    },
    "language_info": {
      "name": "python"
    }
  },
  "cells": [
    {
      "cell_type": "markdown",
      "metadata": {
        "id": "view-in-github",
        "colab_type": "text"
      },
      "source": [
        "<a href=\"https://colab.research.google.com/github/chris-iscool/machinelearning/blob/main/Linear_Regression_Toy.ipynb\" target=\"_parent\"><img src=\"https://colab.research.google.com/assets/colab-badge.svg\" alt=\"Open In Colab\"/></a>"
      ]
    },
    {
      "cell_type": "code",
      "metadata": {
        "id": "nXeueqiR0Cc_"
      },
      "source": [
        "# Nur für die Tensorflow Version\n",
        "%tensorflow_version 2.x"
      ],
      "execution_count": null,
      "outputs": []
    },
    {
      "cell_type": "code",
      "metadata": {
        "id": "qtmjm5ie0pqd"
      },
      "source": [
        "# Wichtige imports für Tensorflow\n",
        "import numpy as np\n",
        "import pandas as pd\n",
        "import tensorflow as tf\n",
        "from matplotlib import pyplot as plt"
      ],
      "execution_count": null,
      "outputs": []
    },
    {
      "cell_type": "markdown",
      "metadata": {
        "id": "FK7Oj5So19kP"
      },
      "source": [
        "Model $f( \\bf{x} )$ abhängig von:    \n",
        "\n",
        "\n",
        "*   Learning rate $\\eta$\n",
        "*   Feature $\\bf{x}$\n",
        "*   Label $\\bf{y}$\n",
        "*   Batch size $N$\n",
        "*   Time/epoch $T$"
      ]
    },
    {
      "cell_type": "code",
      "metadata": {
        "id": "3WRdI_C-05bX"
      },
      "source": [
        "def build_model(eta):\n",
        "  # Ein einfaches Model, ein Layer, ein Knoten (Neuron), eine Funktion\n",
        "  f = tf.keras.models.Sequential()\n",
        "\n",
        "  f.add(tf.keras.layers.Dense(units=1, input_shape=(1,)))\n",
        "\n",
        "  # Alle weiteren Eigenschaften des 1 Neuron Model werden hier bestimmt, wie Lernen durch Root Mean Square\n",
        "  f.compile(optimizer=tf.keras.optimizers.RMSprop(learning_rate=eta), loss=\"mean_squared_error\", metrics=[tf.keras.metrics.RootMeanSquaredError()])\n",
        "\n",
        "  return f\n",
        "\n",
        "# Training des Neurons:\n",
        "def train_model(model, feature, label, batchsize, epochs_T):\n",
        "  # Wir trainieren das Neuron für eine gegebene Anzahl an Epochen\n",
        "  training_history = model.fit(x=feature, y=label, batch_size=batchsize, epochs=epochs_T)\n",
        "\n",
        "  # Gewichte und Biases können jetzt aus dem trainierten Neuron extrahiert werden\n",
        "  # Ebenso die Zeiten/Epochen, die Zustände (Historien) zu diesen Zeiten, und die Liste der RMS zu den jeweiligen Zeiten\n",
        "  trained_weights = model.get_weights()[0]\n",
        "  trained_biases = model.get_weights()[1]\n",
        "  epochs = training_history.epoch\n",
        "  states = pd.DataFrame(training_history.history)\n",
        "  rms_errors = states[\"root_mean_squared_error\"]\n",
        "\n",
        "  return [trained_weights, trained_biases, epochs, rms_errors]"
      ],
      "execution_count": null,
      "outputs": []
    },
    {
      "cell_type": "markdown",
      "metadata": {
        "id": "yBoZb4M0FdWP"
      },
      "source": [
        "In einem trainierten Modell $f(\\bf{x})$ besteht der lineare Zusammenhang mit den Gewichten $\\bf{w}$ und den Biases $\\bf{b}$ wie folgt:    \n",
        "$$ \\bf{y} = \\bf{w} \\cdot \\bf{x} + \\bf{b} $$\n",
        "\n",
        "Wir wollen nun für ein trainiertes Modell die \"vorhergesagten\" (trainierten) mit den tatsächlichen Daten vergleichen! Da unser Neuron strikt eindimensional definiert wurde, kann ein xy-Scatter Plot dafür herangezogen werden."
      ]
    },
    {
      "cell_type": "code",
      "metadata": {
        "id": "N0mdqK4972a9"
      },
      "source": [
        "def plot_model(features, labels, trained_weight, trained_bias):\n",
        "  # Labels für die Achsen\n",
        "  plt.figure()\n",
        "  plt.xlabel(\"Feature x\")\n",
        "  plt.ylabel(\"Label y\")\n",
        "\n",
        "  # Plotte die \"echten\" Daten\n",
        "  plt.scatter(features, labels)\n",
        "\n",
        "  # Plotte das Ergebnis der linearen Regression, also eine Gerade mit dem trainierten Gewicht und Bias der letzten Epoche\n",
        "  x0 = 0\n",
        "  y0 = trained_bias\n",
        "  x1 = features[-1]\n",
        "  y1 = y0 + trained_weight * x1\n",
        "\n",
        "  plt.plot([x0, x1], [y0, y1])\n",
        "  plt.show()\n",
        "\n",
        "def plot_errors(epochs, rms_errors):\n",
        "  plt.figure()\n",
        "  plt.xlabel(\"Epoch\")\n",
        "  plt.ylabel(\"Root Mean Square Error\")\n",
        "\n",
        "  plt.plot(epochs, rms_errors)\n",
        "  plt.ylim([rms_errors.min() * 0.97, rms_errors.max()])\n",
        "  plt.show()"
      ],
      "execution_count": null,
      "outputs": []
    },
    {
      "cell_type": "markdown",
      "source": [
        "Für den \"Proof of concept\" testen wir das Neuron zunächst an einem kleinen künstlichen Datensatz."
      ],
      "metadata": {
        "id": "raCemMouQgl8"
      }
    },
    {
      "cell_type": "code",
      "source": [
        "my_feature = ([1.0, 2.0,  3.0,  4.0,  5.0,  6.0,  7.0,  8.0,  9.0, 10.0, 11.0, 12.0])\n",
        "my_label   = ([5.0, 8.8,  9.6, 14.2, 18.8, 19.5, 21.4, 26.8, 28.9, 32.0, 33.8, 38.2])"
      ],
      "metadata": {
        "id": "LQpa_ZHpN4qs"
      },
      "execution_count": null,
      "outputs": []
    },
    {
      "cell_type": "markdown",
      "source": [
        "Das Neuron kann jetzt über die Parameter $\\eta$, $N$ und $T$ feingetuned werden."
      ],
      "metadata": {
        "id": "KTgVeoGqQ8Q0"
      }
    },
    {
      "cell_type": "code",
      "source": [
        "eta = 0.1 # learning rate\n",
        "N = 1 # batch size\n",
        "T = 60 # number of epochs\n",
        "\n",
        "neuron = build_model(eta)\n",
        "[trained_weight, trained_bias, epochs, ems_errors] = train_model(neuron, my_feature, my_label, N, T)\n",
        "\n",
        "plot_model(my_feature, my_label, trained_weight, trained_bias)\n",
        "plot_errors(epochs, ems_errors)"
      ],
      "metadata": {
        "colab": {
          "base_uri": "https://localhost:8080/",
          "height": 1000
        },
        "id": "4m4DoSJaQwlE",
        "outputId": "c04d7dbb-0cb3-4b5f-afc7-84c6845a8d27"
      },
      "execution_count": null,
      "outputs": [
        {
          "output_type": "stream",
          "name": "stdout",
          "text": [
            "Epoch 1/60\n",
            "12/12 [==============================] - 0s 2ms/step - loss: 839.5667 - root_mean_squared_error: 28.9753\n",
            "Epoch 2/60\n",
            "12/12 [==============================] - 0s 2ms/step - loss: 439.5119 - root_mean_squared_error: 20.9645\n",
            "Epoch 3/60\n",
            "12/12 [==============================] - 0s 2ms/step - loss: 211.9882 - root_mean_squared_error: 14.5598\n",
            "Epoch 4/60\n",
            "12/12 [==============================] - 0s 2ms/step - loss: 84.6491 - root_mean_squared_error: 9.2005\n",
            "Epoch 5/60\n",
            "12/12 [==============================] - 0s 1ms/step - loss: 22.1599 - root_mean_squared_error: 4.7074\n",
            "Epoch 6/60\n",
            "12/12 [==============================] - 0s 1ms/step - loss: 3.6552 - root_mean_squared_error: 1.9119\n",
            "Epoch 7/60\n",
            "12/12 [==============================] - 0s 1ms/step - loss: 2.2556 - root_mean_squared_error: 1.5019\n",
            "Epoch 8/60\n",
            "12/12 [==============================] - 0s 1ms/step - loss: 1.9446 - root_mean_squared_error: 1.3945\n",
            "Epoch 9/60\n",
            "12/12 [==============================] - 0s 1ms/step - loss: 1.7691 - root_mean_squared_error: 1.3301\n",
            "Epoch 10/60\n",
            "12/12 [==============================] - 0s 1ms/step - loss: 2.2972 - root_mean_squared_error: 1.5156\n",
            "Epoch 11/60\n",
            "12/12 [==============================] - 0s 2ms/step - loss: 1.2124 - root_mean_squared_error: 1.1011\n",
            "Epoch 12/60\n",
            "12/12 [==============================] - 0s 1ms/step - loss: 1.6871 - root_mean_squared_error: 1.2989\n",
            "Epoch 13/60\n",
            "12/12 [==============================] - 0s 1ms/step - loss: 1.7677 - root_mean_squared_error: 1.3295\n",
            "Epoch 14/60\n",
            "12/12 [==============================] - 0s 2ms/step - loss: 1.3799 - root_mean_squared_error: 1.1747\n",
            "Epoch 15/60\n",
            "12/12 [==============================] - 0s 1ms/step - loss: 1.5169 - root_mean_squared_error: 1.2316\n",
            "Epoch 16/60\n",
            "12/12 [==============================] - 0s 1ms/step - loss: 1.2800 - root_mean_squared_error: 1.1314\n",
            "Epoch 17/60\n",
            "12/12 [==============================] - 0s 1ms/step - loss: 1.8409 - root_mean_squared_error: 1.3568\n",
            "Epoch 18/60\n",
            "12/12 [==============================] - 0s 1ms/step - loss: 1.4493 - root_mean_squared_error: 1.2039\n",
            "Epoch 19/60\n",
            "12/12 [==============================] - 0s 1ms/step - loss: 1.4742 - root_mean_squared_error: 1.2142\n",
            "Epoch 20/60\n",
            "12/12 [==============================] - 0s 1ms/step - loss: 1.3251 - root_mean_squared_error: 1.1511\n",
            "Epoch 21/60\n",
            "12/12 [==============================] - 0s 2ms/step - loss: 1.5565 - root_mean_squared_error: 1.2476\n",
            "Epoch 22/60\n",
            "12/12 [==============================] - 0s 1ms/step - loss: 0.9979 - root_mean_squared_error: 0.9990\n",
            "Epoch 23/60\n",
            "12/12 [==============================] - 0s 1ms/step - loss: 1.2998 - root_mean_squared_error: 1.1401\n",
            "Epoch 24/60\n",
            "12/12 [==============================] - 0s 1ms/step - loss: 1.4996 - root_mean_squared_error: 1.2246\n",
            "Epoch 25/60\n",
            "12/12 [==============================] - 0s 2ms/step - loss: 1.5352 - root_mean_squared_error: 1.2390\n",
            "Epoch 26/60\n",
            "12/12 [==============================] - 0s 2ms/step - loss: 1.3309 - root_mean_squared_error: 1.1537\n",
            "Epoch 27/60\n",
            "12/12 [==============================] - 0s 2ms/step - loss: 1.6483 - root_mean_squared_error: 1.2839\n",
            "Epoch 28/60\n",
            "12/12 [==============================] - 0s 2ms/step - loss: 1.2511 - root_mean_squared_error: 1.1185\n",
            "Epoch 29/60\n",
            "12/12 [==============================] - 0s 1ms/step - loss: 1.7725 - root_mean_squared_error: 1.3314\n",
            "Epoch 30/60\n",
            "12/12 [==============================] - 0s 1ms/step - loss: 1.8373 - root_mean_squared_error: 1.3555\n",
            "Epoch 31/60\n",
            "12/12 [==============================] - 0s 2ms/step - loss: 1.4434 - root_mean_squared_error: 1.2014\n",
            "Epoch 32/60\n",
            "12/12 [==============================] - 0s 1ms/step - loss: 0.8064 - root_mean_squared_error: 0.8980\n",
            "Epoch 33/60\n",
            "12/12 [==============================] - 0s 1ms/step - loss: 1.3778 - root_mean_squared_error: 1.1738\n",
            "Epoch 34/60\n",
            "12/12 [==============================] - 0s 2ms/step - loss: 1.6402 - root_mean_squared_error: 1.2807\n",
            "Epoch 35/60\n",
            "12/12 [==============================] - 0s 1ms/step - loss: 1.5319 - root_mean_squared_error: 1.2377\n",
            "Epoch 36/60\n",
            "12/12 [==============================] - 0s 1ms/step - loss: 1.3182 - root_mean_squared_error: 1.1481\n",
            "Epoch 37/60\n",
            "12/12 [==============================] - 0s 1ms/step - loss: 1.2957 - root_mean_squared_error: 1.1383\n",
            "Epoch 38/60\n",
            "12/12 [==============================] - 0s 1ms/step - loss: 1.8274 - root_mean_squared_error: 1.3518\n",
            "Epoch 39/60\n",
            "12/12 [==============================] - 0s 1ms/step - loss: 1.2301 - root_mean_squared_error: 1.1091\n",
            "Epoch 40/60\n",
            "12/12 [==============================] - 0s 1ms/step - loss: 1.4286 - root_mean_squared_error: 1.1953\n",
            "Epoch 41/60\n",
            "12/12 [==============================] - 0s 1ms/step - loss: 1.3138 - root_mean_squared_error: 1.1462\n",
            "Epoch 42/60\n",
            "12/12 [==============================] - 0s 1ms/step - loss: 1.8680 - root_mean_squared_error: 1.3667\n",
            "Epoch 43/60\n",
            "12/12 [==============================] - 0s 2ms/step - loss: 1.4522 - root_mean_squared_error: 1.2051\n",
            "Epoch 44/60\n",
            "12/12 [==============================] - 0s 1ms/step - loss: 1.2610 - root_mean_squared_error: 1.1229\n",
            "Epoch 45/60\n",
            "12/12 [==============================] - 0s 1ms/step - loss: 1.0987 - root_mean_squared_error: 1.0482\n",
            "Epoch 46/60\n",
            "12/12 [==============================] - 0s 1ms/step - loss: 1.4318 - root_mean_squared_error: 1.1966\n",
            "Epoch 47/60\n",
            "12/12 [==============================] - 0s 1ms/step - loss: 1.7845 - root_mean_squared_error: 1.3358\n",
            "Epoch 48/60\n",
            "12/12 [==============================] - 0s 2ms/step - loss: 1.7793 - root_mean_squared_error: 1.3339\n",
            "Epoch 49/60\n",
            "12/12 [==============================] - 0s 1ms/step - loss: 1.5945 - root_mean_squared_error: 1.2627\n",
            "Epoch 50/60\n",
            "12/12 [==============================] - 0s 1ms/step - loss: 1.6056 - root_mean_squared_error: 1.2671\n",
            "Epoch 51/60\n",
            "12/12 [==============================] - 0s 2ms/step - loss: 0.9383 - root_mean_squared_error: 0.9687\n",
            "Epoch 52/60\n",
            "12/12 [==============================] - 0s 1ms/step - loss: 1.5214 - root_mean_squared_error: 1.2334\n",
            "Epoch 53/60\n",
            "12/12 [==============================] - 0s 1ms/step - loss: 1.2152 - root_mean_squared_error: 1.1023\n",
            "Epoch 54/60\n",
            "12/12 [==============================] - 0s 1ms/step - loss: 1.0697 - root_mean_squared_error: 1.0343\n",
            "Epoch 55/60\n",
            "12/12 [==============================] - 0s 1ms/step - loss: 1.3326 - root_mean_squared_error: 1.1544\n",
            "Epoch 56/60\n",
            "12/12 [==============================] - 0s 2ms/step - loss: 1.6735 - root_mean_squared_error: 1.2936\n",
            "Epoch 57/60\n",
            "12/12 [==============================] - 0s 2ms/step - loss: 1.3303 - root_mean_squared_error: 1.1534\n",
            "Epoch 58/60\n",
            "12/12 [==============================] - 0s 2ms/step - loss: 1.1702 - root_mean_squared_error: 1.0818\n",
            "Epoch 59/60\n",
            "12/12 [==============================] - 0s 2ms/step - loss: 1.3099 - root_mean_squared_error: 1.1445\n",
            "Epoch 60/60\n",
            "12/12 [==============================] - 0s 2ms/step - loss: 1.6458 - root_mean_squared_error: 1.2829\n"
          ]
        },
        {
          "output_type": "stream",
          "name": "stderr",
          "text": [
            "/usr/local/lib/python3.7/dist-packages/numpy/core/_asarray.py:136: VisibleDeprecationWarning: Creating an ndarray from ragged nested sequences (which is a list-or-tuple of lists-or-tuples-or ndarrays with different lengths or shapes) is deprecated. If you meant to do this, you must specify 'dtype=object' when creating the ndarray\n",
            "  return array(a, dtype, copy=False, order=order, subok=True)\n"
          ]
        },
        {
          "output_type": "display_data",
          "data": {
            "image/png": "[encoded data removed]",
            "text/plain": [
              "<Figure size 432x288 with 1 Axes>"
            ]
          },
          "metadata": {
            "needs_background": "light"
          }
        },
        {
          "output_type": "display_data",
          "data": {
            "image/png": "[encoded data removed]",
            "text/plain": [
              "<Figure size 432x288 with 1 Axes>"
            ]
          },
          "metadata": {
            "needs_background": "light"
          }
        }
      ]
    },
    {
      "cell_type": "markdown",
      "source": [
        "Als Zusammenfassung: Die Feintuningparameter $\\eta$, $N$ und $T$ sind für die Konvergenz des Modells wichtig. Sie müssen an die Art der zu erfassenden Daten angepasst werden."
      ],
      "metadata": {
        "id": "ubjWOPmbcdha"
      }
    },
    {
      "cell_type": "code",
      "source": [
        ""
      ],
      "metadata": {
        "id": "4aaBzOfFYkUD"
      },
      "execution_count": null,
      "outputs": []
    }
  ]
}